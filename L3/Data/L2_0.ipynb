{
 "cells": [
  {
   "cell_type": "markdown",
   "id": "da2fd016-8ebd-4c5a-af2d-237f9dfc291c",
   "metadata": {},
   "source": [
    "<center style=\"font-size: 2em; font-weight: bold;\"> Estadistica para Economístas </center>\n",
    "<center style=\"font-size: 2em; font-weight: bold;\"> Semana 2: generacion de data </center>"
   ]
  },
  {
   "cell_type": "markdown",
   "id": "484dd9e3-4515-4ed0-90ba-cd66a3edc014",
   "metadata": {},
   "source": [
    "Aplicacion de base de datos sobre los activos de apple y microsfot corporation"
   ]
  },
  {
   "cell_type": "code",
   "execution_count": 1,
   "id": "2556d859-04a3-44b6-89ce-0d8daa4ee902",
   "metadata": {},
   "outputs": [],
   "source": [
    "import pandas \n",
    "import numpy\n",
    "import yfinance as yf\n",
    "\n",
    "#import pandas_datareader as pdr\n",
    "#from datetime import datetime\n"
   ]
  },
  {
   "cell_type": "code",
   "execution_count": 2,
   "id": "c073a2f2-0886-429e-ba3b-9c2017035568",
   "metadata": {},
   "outputs": [
    {
     "name": "stdout",
     "output_type": "stream",
     "text": [
      "[*********************100%***********************]  1 of 1 completed\n",
      "Date         2018-09-17    2018-09-18    2018-09-19    2018-09-20  \\\n",
      "Open       5.553750e+01  5.444750e+01  5.462500e+01  5.506000e+01   \n",
      "High       5.573750e+01  5.546250e+01  5.490500e+01  5.557000e+01   \n",
      "Low        5.431750e+01  5.428000e+01  5.382500e+01  5.478750e+01   \n",
      "Close      5.447000e+01  5.456000e+01  5.459250e+01  5.500750e+01   \n",
      "Adj Close  5.231047e+01  5.239689e+01  5.242810e+01  5.282664e+01   \n",
      "Volume     1.487804e+08  1.262868e+08  1.084952e+08  1.064352e+08   \n",
      "\n",
      "Date         2018-09-21  \n",
      "Open       5.519500e+01  \n",
      "High       5.534000e+01  \n",
      "Low        5.432250e+01  \n",
      "Close      5.441500e+01  \n",
      "Adj Close  5.225764e+01  \n",
      "Volume     3.849868e+08  \n",
      "[*********************100%***********************]  1 of 1 completed\n",
      "Date         2018-09-17    2018-09-18    2018-09-19    2018-09-20  \\\n",
      "Open       1.136900e+02  1.121900e+02  1.130500e+02  1.122800e+02   \n",
      "High       1.137000e+02  1.137000e+02  1.133200e+02  1.138000e+02   \n",
      "Low        1.118600e+02  1.117200e+02  1.110400e+02  1.119300e+02   \n",
      "Close      1.121400e+02  1.132100e+02  1.117000e+02  1.135700e+02   \n",
      "Adj Close  1.067027e+02  1.077208e+02  1.062840e+02  1.080633e+02   \n",
      "Volume     2.073650e+07  2.217090e+07  2.172840e+07  2.371450e+07   \n",
      "\n",
      "Date         2018-09-21  \n",
      "Open       1.140000e+02  \n",
      "High       1.152900e+02  \n",
      "Low        1.135100e+02  \n",
      "Close      1.142600e+02  \n",
      "Adj Close  1.087199e+02  \n",
      "Volume     7.122970e+07  \n"
     ]
    }
   ],
   "source": [
    "# Apple\n",
    "df_apple = yf.download('AAPL', start='2018-09-15', end='2020-11-15')\n",
    "print(df_apple.head().T)\n",
    "\n",
    "## Microsfot\n",
    "df_msft = yf.download('MSFT', start='2018-09-15', end='2020-11-15')\n",
    "print(df_msft.head().T)\n",
    "\n",
    "\n"
   ]
  },
  {
   "cell_type": "code",
   "execution_count": 3,
   "id": "b8c34b20-5075-43b5-ac12-dde5d7a12259",
   "metadata": {},
   "outputs": [
    {
     "data": {
      "text/html": [
       "<div>\n",
       "<style scoped>\n",
       "    .dataframe tbody tr th:only-of-type {\n",
       "        vertical-align: middle;\n",
       "    }\n",
       "\n",
       "    .dataframe tbody tr th {\n",
       "        vertical-align: top;\n",
       "    }\n",
       "\n",
       "    .dataframe thead th {\n",
       "        text-align: right;\n",
       "    }\n",
       "</style>\n",
       "<table border=\"1\" class=\"dataframe\">\n",
       "  <thead>\n",
       "    <tr style=\"text-align: right;\">\n",
       "      <th>Date</th>\n",
       "      <th>2018-09-17</th>\n",
       "      <th>2018-09-18</th>\n",
       "      <th>2018-09-19</th>\n",
       "      <th>2018-09-20</th>\n",
       "      <th>2018-09-21</th>\n",
       "    </tr>\n",
       "  </thead>\n",
       "  <tbody>\n",
       "    <tr>\n",
       "      <th>Adj Close</th>\n",
       "      <td>106.702652</td>\n",
       "      <td>107.720795</td>\n",
       "      <td>106.283989</td>\n",
       "      <td>108.063339</td>\n",
       "      <td>108.719872</td>\n",
       "    </tr>\n",
       "  </tbody>\n",
       "</table>\n",
       "</div>"
      ],
      "text/plain": [
       "Date       2018-09-17  2018-09-18  2018-09-19  2018-09-20  2018-09-21\n",
       "Adj Close  106.702652  107.720795  106.283989  108.063339  108.719872"
      ]
     },
     "execution_count": 3,
     "metadata": {},
     "output_type": "execute_result"
    }
   ],
   "source": [
    "apple = df_apple[['Adj Close']]\n",
    "apple.head().T\n",
    "\n",
    "msft = df_msft[['Adj Close']]\n",
    "msft.head().T\n"
   ]
  },
  {
   "cell_type": "code",
   "execution_count": 4,
   "id": "e4a63815-c98a-45cb-a970-34b0968d6731",
   "metadata": {},
   "outputs": [
    {
     "name": "stderr",
     "output_type": "stream",
     "text": [
      "C:\\Users\\edinson\\AppData\\Local\\Temp\\ipykernel_4284\\1747147882.py:2: SettingWithCopyWarning: \n",
      "A value is trying to be set on a copy of a slice from a DataFrame.\n",
      "Try using .loc[row_indexer,col_indexer] = value instead\n",
      "\n",
      "See the caveats in the documentation: https://pandas.pydata.org/pandas-docs/stable/user_guide/indexing.html#returning-a-view-versus-a-copy\n",
      "  apple['AAPL'] = apple['Adj Close']\n",
      "C:\\Users\\edinson\\AppData\\Local\\Temp\\ipykernel_4284\\1747147882.py:7: SettingWithCopyWarning: \n",
      "A value is trying to be set on a copy of a slice from a DataFrame.\n",
      "Try using .loc[row_indexer,col_indexer] = value instead\n",
      "\n",
      "See the caveats in the documentation: https://pandas.pydata.org/pandas-docs/stable/user_guide/indexing.html#returning-a-view-versus-a-copy\n",
      "  msft['MSFT'] = msft['Adj Close']\n"
     ]
    },
    {
     "data": {
      "text/html": [
       "<div>\n",
       "<style scoped>\n",
       "    .dataframe tbody tr th:only-of-type {\n",
       "        vertical-align: middle;\n",
       "    }\n",
       "\n",
       "    .dataframe tbody tr th {\n",
       "        vertical-align: top;\n",
       "    }\n",
       "\n",
       "    .dataframe thead th {\n",
       "        text-align: right;\n",
       "    }\n",
       "</style>\n",
       "<table border=\"1\" class=\"dataframe\">\n",
       "  <thead>\n",
       "    <tr style=\"text-align: right;\">\n",
       "      <th>Date</th>\n",
       "      <th>2018-09-17</th>\n",
       "      <th>2018-09-18</th>\n",
       "      <th>2018-09-19</th>\n",
       "      <th>2018-09-20</th>\n",
       "      <th>2018-09-21</th>\n",
       "    </tr>\n",
       "  </thead>\n",
       "  <tbody>\n",
       "    <tr>\n",
       "      <th>MSFT</th>\n",
       "      <td>106.702652</td>\n",
       "      <td>107.720795</td>\n",
       "      <td>106.283989</td>\n",
       "      <td>108.063339</td>\n",
       "      <td>108.719872</td>\n",
       "    </tr>\n",
       "    <tr>\n",
       "      <th>fecha</th>\n",
       "      <td>2018-09-17 00:00:00</td>\n",
       "      <td>2018-09-18 00:00:00</td>\n",
       "      <td>2018-09-19 00:00:00</td>\n",
       "      <td>2018-09-20 00:00:00</td>\n",
       "      <td>2018-09-21 00:00:00</td>\n",
       "    </tr>\n",
       "  </tbody>\n",
       "</table>\n",
       "</div>"
      ],
      "text/plain": [
       "Date            2018-09-17           2018-09-18           2018-09-19  \\\n",
       "MSFT            106.702652           107.720795           106.283989   \n",
       "fecha  2018-09-17 00:00:00  2018-09-18 00:00:00  2018-09-19 00:00:00   \n",
       "\n",
       "Date            2018-09-20           2018-09-21  \n",
       "MSFT            108.063339           108.719872  \n",
       "fecha  2018-09-20 00:00:00  2018-09-21 00:00:00  "
      ]
     },
     "execution_count": 4,
     "metadata": {},
     "output_type": "execute_result"
    }
   ],
   "source": [
    "# Filtramos la informacion\n",
    "apple['AAPL'] = apple['Adj Close']\n",
    "apple_precio = apple[['AAPL']]\n",
    "apple_precio['fecha'] = apple_precio.index\n",
    "apple_precio.head().T\n",
    "\n",
    "msft['MSFT'] = msft['Adj Close']\n",
    "msft_precio = msft[['MSFT']]\n",
    "msft_precio['fecha'] = msft_precio.index\n",
    "msft_precio.head().T\n"
   ]
  },
  {
   "cell_type": "code",
   "execution_count": 5,
   "id": "1e87d470-795e-4bef-bf79-f85fdb1cb659",
   "metadata": {},
   "outputs": [
    {
     "data": {
      "text/html": [
       "<div>\n",
       "<style scoped>\n",
       "    .dataframe tbody tr th:only-of-type {\n",
       "        vertical-align: middle;\n",
       "    }\n",
       "\n",
       "    .dataframe tbody tr th {\n",
       "        vertical-align: top;\n",
       "    }\n",
       "\n",
       "    .dataframe thead th {\n",
       "        text-align: right;\n",
       "    }\n",
       "</style>\n",
       "<table border=\"1\" class=\"dataframe\">\n",
       "  <thead>\n",
       "    <tr style=\"text-align: right;\">\n",
       "      <th>Date</th>\n",
       "      <th>2018-09-17</th>\n",
       "      <th>2018-09-18</th>\n",
       "      <th>2018-09-19</th>\n",
       "      <th>2018-09-20</th>\n",
       "      <th>2018-09-21</th>\n",
       "    </tr>\n",
       "  </thead>\n",
       "  <tbody>\n",
       "    <tr>\n",
       "      <th>MSFT</th>\n",
       "      <td>106.702652</td>\n",
       "      <td>107.720795</td>\n",
       "      <td>106.283989</td>\n",
       "      <td>108.063339</td>\n",
       "      <td>108.719872</td>\n",
       "    </tr>\n",
       "    <tr>\n",
       "      <th>fecha</th>\n",
       "      <td>2018-09-17 00:00:00</td>\n",
       "      <td>2018-09-18 00:00:00</td>\n",
       "      <td>2018-09-19 00:00:00</td>\n",
       "      <td>2018-09-20 00:00:00</td>\n",
       "      <td>2018-09-21 00:00:00</td>\n",
       "    </tr>\n",
       "    <tr>\n",
       "      <th>AAPL</th>\n",
       "      <td>52.310467</td>\n",
       "      <td>52.396889</td>\n",
       "      <td>52.428104</td>\n",
       "      <td>52.826645</td>\n",
       "      <td>52.257645</td>\n",
       "    </tr>\n",
       "  </tbody>\n",
       "</table>\n",
       "</div>"
      ],
      "text/plain": [
       "Date            2018-09-17           2018-09-18           2018-09-19  \\\n",
       "MSFT            106.702652           107.720795           106.283989   \n",
       "fecha  2018-09-17 00:00:00  2018-09-18 00:00:00  2018-09-19 00:00:00   \n",
       "AAPL             52.310467            52.396889            52.428104   \n",
       "\n",
       "Date            2018-09-20           2018-09-21  \n",
       "MSFT            108.063339           108.719872  \n",
       "fecha  2018-09-20 00:00:00  2018-09-21 00:00:00  \n",
       "AAPL             52.826645            52.257645  "
      ]
     },
     "execution_count": 5,
     "metadata": {},
     "output_type": "execute_result"
    }
   ],
   "source": [
    "activos = msft_precio \n",
    "activos['AAPL'] = apple['AAPL']\n",
    "activos.head().T"
   ]
  },
  {
   "cell_type": "code",
   "execution_count": 6,
   "id": "b15480bf-aefc-4af7-a407-b090c25a70ae",
   "metadata": {},
   "outputs": [
    {
     "data": {
      "text/html": [
       "<div>\n",
       "<style scoped>\n",
       "    .dataframe tbody tr th:only-of-type {\n",
       "        vertical-align: middle;\n",
       "    }\n",
       "\n",
       "    .dataframe tbody tr th {\n",
       "        vertical-align: top;\n",
       "    }\n",
       "\n",
       "    .dataframe thead th {\n",
       "        text-align: right;\n",
       "    }\n",
       "</style>\n",
       "<table border=\"1\" class=\"dataframe\">\n",
       "  <thead>\n",
       "    <tr style=\"text-align: right;\">\n",
       "      <th>Date</th>\n",
       "      <th>2018-09-17</th>\n",
       "      <th>2018-09-18</th>\n",
       "      <th>2018-09-19</th>\n",
       "      <th>2018-09-20</th>\n",
       "      <th>2018-09-21</th>\n",
       "    </tr>\n",
       "  </thead>\n",
       "  <tbody>\n",
       "    <tr>\n",
       "      <th>fecha</th>\n",
       "      <td>2018-09-17 00:00:00</td>\n",
       "      <td>2018-09-18 00:00:00</td>\n",
       "      <td>2018-09-19 00:00:00</td>\n",
       "      <td>2018-09-20 00:00:00</td>\n",
       "      <td>2018-09-21 00:00:00</td>\n",
       "    </tr>\n",
       "    <tr>\n",
       "      <th>MSFT</th>\n",
       "      <td>106.702652</td>\n",
       "      <td>107.720795</td>\n",
       "      <td>106.283989</td>\n",
       "      <td>108.063339</td>\n",
       "      <td>108.719872</td>\n",
       "    </tr>\n",
       "    <tr>\n",
       "      <th>AAPL</th>\n",
       "      <td>52.310467</td>\n",
       "      <td>52.396889</td>\n",
       "      <td>52.428104</td>\n",
       "      <td>52.826645</td>\n",
       "      <td>52.257645</td>\n",
       "    </tr>\n",
       "  </tbody>\n",
       "</table>\n",
       "</div>"
      ],
      "text/plain": [
       "Date            2018-09-17           2018-09-18           2018-09-19  \\\n",
       "fecha  2018-09-17 00:00:00  2018-09-18 00:00:00  2018-09-19 00:00:00   \n",
       "MSFT            106.702652           107.720795           106.283989   \n",
       "AAPL             52.310467            52.396889            52.428104   \n",
       "\n",
       "Date            2018-09-20           2018-09-21  \n",
       "fecha  2018-09-20 00:00:00  2018-09-21 00:00:00  \n",
       "MSFT            108.063339           108.719872  \n",
       "AAPL             52.826645            52.257645  "
      ]
     },
     "execution_count": 6,
     "metadata": {},
     "output_type": "execute_result"
    }
   ],
   "source": [
    "# Base final\n",
    "activos = activos[['fecha', 'MSFT', 'AAPL']]\n",
    "activos.head().T"
   ]
  },
  {
   "cell_type": "code",
   "execution_count": 7,
   "id": "ed729046-2522-485f-85dd-af5b2f57c46f",
   "metadata": {},
   "outputs": [
    {
     "data": {
      "text/plain": [
       "<AxesSubplot: xlabel='fecha', ylabel='AAPL'>"
      ]
     },
     "execution_count": 7,
     "metadata": {},
     "output_type": "execute_result"
    },
    {
     "data": {
      "image/png": "[encoded data removed]",
      "text/plain": [
       "<Figure size 640x480 with 1 Axes>"
      ]
     },
     "metadata": {},
     "output_type": "display_data"
    }
   ],
   "source": [
    "import seaborn\n",
    "\n",
    "seaborn.lineplot(activos, x='fecha', y='AAPL')"
   ]
  },
  {
   "cell_type": "code",
   "execution_count": 8,
   "id": "a74ad873-639a-40a2-8d8a-c22495a7efa1",
   "metadata": {},
   "outputs": [
    {
     "data": {
      "text/plain": [
       "<AxesSubplot: xlabel='fecha', ylabel='MSFT'>"
      ]
     },
     "execution_count": 8,
     "metadata": {},
     "output_type": "execute_result"
    },
    {
     "data": {
      "image/png": "[encoded data removed]",
      "text/plain": [
       "<Figure size 640x480 with 1 Axes>"
      ]
     },
     "metadata": {},
     "output_type": "display_data"
    }
   ],
   "source": [
    "seaborn.lineplot(activos, x='fecha', y='MSFT')"
   ]
  },
  {
   "cell_type": "code",
   "execution_count": 9,
   "id": "111de0fe-59dd-434c-9dd0-105dfda50363",
   "metadata": {},
   "outputs": [],
   "source": [
    "import os\n",
    "# Exportamos de python to excel\n",
    "os.chdir(\"D:/Dropbox/Docencia/UPN/Estadistica/S2/Data\")\n",
    "\n",
    "activos.to_csv(\"data_semana2_activos.csv\")\n",
    "activos.to_excel(\"data_semana2_activos.xlsx\")\n"
   ]
  },
  {
   "cell_type": "code",
   "execution_count": null,
   "id": "c30fdb38-fda0-4866-84d2-97fdde9f798d",
   "metadata": {},
   "outputs": [],
   "source": []
  }
 ],
 "metadata": {
  "kernelspec": {
   "display_name": "python_last",
   "language": "python",
   "name": "python_last"
  },
  "language_info": {
   "codemirror_mode": {
    "name": "ipython",
    "version": 3
   },
   "file_extension": ".py",
   "mimetype": "text/x-python",
   "name": "python",
   "nbconvert_exporter": "python",
   "pygments_lexer": "ipython3",
   "version": "3.10.8"
  }
 },
 "nbformat": 4,
 "nbformat_minor": 5
}
